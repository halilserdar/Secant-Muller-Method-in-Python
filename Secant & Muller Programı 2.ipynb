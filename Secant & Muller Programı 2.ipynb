{
 "cells": [
  {
   "cell_type": "code",
   "execution_count": 4,
   "metadata": {},
   "outputs": [],
   "source": [
    "import math; \n",
    "def f(x):\n",
    "    return (1 * pow(x, 3) - 13 * x - 11);"
   ]
  },
  {
   "cell_type": "code",
   "execution_count": 5,
   "metadata": {},
   "outputs": [
    {
     "name": "stdout",
     "output_type": "stream",
     "text": [
      "İterasyon sayısı: 6\n",
      "Kök: 3.971144\n"
     ]
    }
   ],
   "source": [
    "def secant(f, x0, x1, eps):\n",
    "    f_x0 = f(x0)\n",
    "    f_x1 = f(x1)\n",
    "    iteration_counter = 0\n",
    "    while abs(f_x1) > eps and iteration_counter < 100:\n",
    "        try:\n",
    "            denominator = float(f_x1 - f_x0)/(x1 - x0)\n",
    "            x = x1 - float(f_x1)/denominator\n",
    "        except ZeroDivisionError:\n",
    "            print (\"0'a bölemezsiniz. \", x)\n",
    "            sys.exit(1)\n",
    "        x0 = x1\n",
    "        x1 = x\n",
    "        f_x0 = f_x1\n",
    "        f_x1 = f(x1)\n",
    "        iteration_counter += 1\n",
    "    return x, iteration_counter\n",
    "x0 = 4;   x1 = x0 - 1\n",
    "solution, no_iterations = secant(f, x0, x1, eps=1.0e-5)\n",
    "if no_iterations > 0:    # Solution found\n",
    "    print (\"İterasyon sayısı: %d\" % (2 + no_iterations))\n",
    "    print (\"Kök: %f\" % (solution))\n",
    "else:\n",
    "    print (\"Çözüm yok!\")"
   ]
  },
  {
   "cell_type": "code",
   "execution_count": 8,
   "metadata": {},
   "outputs": [
    {
     "name": "stdout",
     "output_type": "stream",
     "text": [
      "İterasyon sayısı =  1\n",
      "Kök:  3.9711\n"
     ]
    }
   ],
   "source": [
    "def Muller(a, b, c): \n",
    "    res = 0;\n",
    "    i = 0;\n",
    "    MAX_ITERATIONS = 10000;\n",
    "    while (True):\n",
    "        # x3'ü hesaplamak için gerekenler\n",
    "        f1 = f(a); f2 = f(b); f3 = f(c);\n",
    "        d1 = f1 - f3;\n",
    "        d2 = f2 - f3;\n",
    "        h1 = a - c;\n",
    "        h2 = b - c;\n",
    "        a0 = f3;\n",
    "        a1 = (((d2 * pow(h1, 2)) -(d1 * pow(h2, 2))) /((h1 * h2) * (h1 - h2)));\n",
    "        a2 = (((d1 * h2) - (d2 * h1)) /((h1 * h2) * (h1 - h2)));\n",
    "        x = ((-2 * a0) / (a1 +abs(math.sqrt(a1 * a1 - 4 * a0 * a2))));\n",
    "        y = ((-2 * a0) / (a1 -abs(math.sqrt(a1 * a1 - 4 * a0 * a2))));\n",
    "        # x2'ye yakın olan kökü alma\n",
    "        if (x >= y):\n",
    "            res = x + c;\n",
    "        else:\n",
    "            res = y + c;\n",
    "        # x3 ile x2 benzerliğini kontrol etme\n",
    "        m = res * 100;\n",
    "        n = c * 100;\n",
    "        m = math.floor(m);\n",
    "        n = math.floor(n);\n",
    "        if (m == n):\n",
    "            break;\n",
    "        a = b;\n",
    "        b = c;\n",
    "        c = res;\n",
    "        if (i > MAX_ITERATIONS):\n",
    "            print(\"Kök bulunamaz.\");\n",
    "            break;\n",
    "        i += 1;\n",
    "    print(\"İterasyon sayısı = \", i);\n",
    "    if (i <= MAX_ITERATIONS):\n",
    "        print(\"Kök: \",round(res, 4));\n",
    "\n",
    "a = 3;\n",
    "b = 4;\n",
    "c = 5;\n",
    "Muller(a, b, c);"
   ]
  }
 ],
 "metadata": {
  "kernelspec": {
   "display_name": "Python 3",
   "language": "python",
   "name": "python3"
  },
  "language_info": {
   "codemirror_mode": {
    "name": "ipython",
    "version": 3
   },
   "file_extension": ".py",
   "mimetype": "text/x-python",
   "name": "python",
   "nbconvert_exporter": "python",
   "pygments_lexer": "ipython3",
   "version": "3.8.5"
  }
 },
 "nbformat": 4,
 "nbformat_minor": 4
}
